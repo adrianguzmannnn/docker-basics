{
 "cells": [
  {
   "cell_type": "markdown",
   "metadata": {},
   "source": [
    "# `learning-docker` using Docker Desktop in Windows"
   ]
  },
  {
   "cell_type": "markdown",
   "metadata": {},
   "source": [
    "## Check if `docker` is installed properly"
   ]
  },
  {
   "cell_type": "code",
   "execution_count": null,
   "metadata": {},
   "outputs": [],
   "source": [
    "!docker info"
   ]
  },
  {
   "cell_type": "code",
   "execution_count": null,
   "metadata": {},
   "outputs": [],
   "source": [
    "!docker run hello-world"
   ]
  },
  {
   "cell_type": "markdown",
   "metadata": {},
   "source": [
    "## The Docker flow"
   ]
  },
  {
   "cell_type": "code",
   "execution_count": null,
   "metadata": {},
   "outputs": [],
   "source": [
    "!docker images"
   ]
  },
  {
   "cell_type": "markdown",
   "metadata": {},
   "source": [
    "A docker image has just enough of the operating system to do what is needed for code to be ran. `docker images` shows all of the images that have been created. `docker rmi <IMAGE ID>` will remove the installed image."
   ]
  },
  {
   "cell_type": "markdown",
   "metadata": {},
   "source": [
    "The `docker run` command takes an image and turns in into a container with a running process in it."
   ]
  },
  {
   "cell_type": "code",
   "execution_count": null,
   "metadata": {},
   "outputs": [],
   "source": [
    "!docker run -ti ubuntu:latest bash "
   ]
  },
  {
   "cell_type": "markdown",
   "metadata": {},
   "source": [
    "`-ti` is terminal interactive and is used to have a full terminal within the container so that you can run the shell and get things like tab completion and formatting to work correctly."
   ]
  },
  {
   "cell_type": "code",
   "execution_count": null,
   "metadata": {},
   "outputs": [],
   "source": [
    "!docker ps -l"
   ]
  },
  {
   "cell_type": "markdown",
   "metadata": {},
   "source": [
    "Run `docker ps` to get a list of running docker images and run `docker ps -l` to get the latest image that was ran."
   ]
  },
  {
   "cell_type": "markdown",
   "metadata": {},
   "source": [
    "Containers that are running are unique and independent of other containers that are running based on the same image. If one creates a container and adds a file to it, another operating container would not be able to see the new image. \n",
    "\n",
    "For a web-based application, you can have one container that holds the MongoDB database, another container that holds the React front-end, and the hosting server in the final container. Volumes contain the data for the containers. Container networking allows them to communicate with each other."
   ]
  },
  {
   "cell_type": "markdown",
   "metadata": {},
   "source": [
    "To see all containers (including stopped containers), run `docker ps -a` and `docker ps -l` shows the last container to exit (mentioned above)."
   ]
  },
  {
   "cell_type": "markdown",
   "metadata": {},
   "source": [
    "The `docker commit` command takes containers and makes images out of them. `docker run` and `docker commit` are complementary to each other."
   ]
  },
  {
   "cell_type": "markdown",
   "metadata": {},
   "source": [
    "The `latest` tag is optional in docker. `docker run -ti ubuntu bash` is the same to `docker run -ti ubuntu:latest bash`."
   ]
  },
  {
   "cell_type": "code",
   "execution_count": null,
   "metadata": {},
   "outputs": [],
   "source": [
    "!docker ps -l"
   ]
  },
  {
   "cell_type": "code",
   "execution_count": null,
   "metadata": {},
   "outputs": [],
   "source": [
    "!docker commit 11d30f7d8158"
   ]
  },
  {
   "cell_type": "markdown",
   "metadata": {},
   "source": [
    "We now have a new image. The original is unchanged. We now need to tag the image."
   ]
  },
  {
   "cell_type": "code",
   "execution_count": null,
   "metadata": {},
   "outputs": [],
   "source": [
    "!docker tag dfca65088a629cb623abb71717cee366a52083eab2e0a03a75d4cce09e425b59 my-image"
   ]
  },
  {
   "cell_type": "code",
   "execution_count": null,
   "metadata": {},
   "outputs": [],
   "source": [
    "!docker images"
   ]
  },
  {
   "cell_type": "markdown",
   "metadata": {},
   "source": [
    "We can skip `docker tag` by doing `docker commit stupefied_poitras my-image-2`."
   ]
  },
  {
   "cell_type": "code",
   "execution_count": null,
   "metadata": {},
   "outputs": [],
   "source": [
    "!docker commit stupefied_poitras my-image-2"
   ]
  },
  {
   "cell_type": "code",
   "execution_count": null,
   "metadata": {},
   "outputs": [],
   "source": [
    "!docker images"
   ]
  },
  {
   "cell_type": "markdown",
   "metadata": {},
   "source": [
    "## Running processes in containers"
   ]
  },
  {
   "cell_type": "markdown",
   "metadata": {},
   "source": [
    "`docker run --rm -d`\n",
    "- Containers have a main process\n",
    "- The container stops when the process stops\n",
    "- Containers have names\n",
    "- `--rm` if you want to run something in a container but don't want to keep it after. Same as `docker rm <container name>`.\n",
    "- `-d` for detached. It starts the container and leaves it running in the background. Run `docker attach <container name>` to connect to the running container. `CTRL+P` + `CTRL-Q` to detach in a running container, but leaves it running."
   ]
  },
  {
   "cell_type": "markdown",
   "metadata": {},
   "source": [
    "If you've started a container and it already has something running, `docker exec` adds another process to a running container. It's great for debugging and DB administration, but you can't add ports, volumes, etc."
   ]
  },
  {
   "cell_type": "markdown",
   "metadata": {},
   "source": [
    "`docker exec -ti <already running container name> <process to add>`"
   ]
  },
  {
   "cell_type": "markdown",
   "metadata": {},
   "source": [
    "## Managing containers"
   ]
  },
  {
   "cell_type": "markdown",
   "metadata": {},
   "source": [
    "`docker logs` (Docker keeps the logs of the container around as long as you keep the container around)\n",
    "- view the output of containers\n",
    "- `docker logs <container name>`"
   ]
  },
  {
   "cell_type": "code",
   "execution_count": null,
   "metadata": {},
   "outputs": [],
   "source": [
    "!docker run --name example -d ubuntu bash -c \"lose /etc/password\""
   ]
  },
  {
   "cell_type": "code",
   "execution_count": null,
   "metadata": {},
   "outputs": [],
   "source": [
    "!docker logs example"
   ]
  },
  {
   "cell_type": "markdown",
   "metadata": {},
   "source": [
    "Killing and removing containers\n",
    "- `docker kill <container name>` (makes it stop)\n",
    "- `docker rm <container name>` (makes it be gone)"
   ]
  },
  {
   "cell_type": "markdown",
   "metadata": {},
   "source": [
    "Resource Contraints\n",
    "- Memory limits: `docker run --memory <max. allowed memory> <container name> <process>`\n",
    "- CPU limits: `docker run --cpu-shares <relative to other containers>`, `docker run --cpu-quota <general limitations>` "
   ]
  },
  {
   "cell_type": "markdown",
   "metadata": {},
   "source": [
    "Lessons learned\n",
    "- Don't let containers fetch their dependencies when they start\n",
    "- Don't leave important things in unnamed stopped containers"
   ]
  },
  {
   "cell_type": "markdown",
   "metadata": {},
   "source": [
    "## Managing images"
   ]
  },
  {
   "cell_type": "markdown",
   "metadata": {},
   "source": [
    "`docker images` lists downloaded images. It doesn't list images that are able to get be downloaded. Images that share underlying data don't repeat the data itself; docker is space efficient."
   ]
  },
  {
   "cell_type": "code",
   "execution_count": null,
   "metadata": {},
   "outputs": [],
   "source": [
    "!docker ps -l "
   ]
  },
  {
   "cell_type": "code",
   "execution_count": null,
   "metadata": {},
   "outputs": [],
   "source": [
    "!docker commit f233f2ac34d6 my-image-14:1.0.0"
   ]
  },
  {
   "cell_type": "code",
   "execution_count": null,
   "metadata": {},
   "outputs": [],
   "source": [
    "!docker images"
   ]
  },
  {
   "cell_type": "markdown",
   "metadata": {},
   "source": [
    "A common naming convention of tagging images: `registry.example.com:port/organization/image-name:version-tag`"
   ]
  },
  {
   "cell_type": "markdown",
   "metadata": {},
   "source": [
    "Images are grabbed by using `docker pull`, but this is done automatically by `docker run`. The opposite of `docker pull` is `docker push`. `docker rmi image:tag` removes an image from the system."
   ]
  },
  {
   "cell_type": "markdown",
   "metadata": {},
   "source": [
    "## Volumes"
   ]
  },
  {
   "cell_type": "markdown",
   "metadata": {},
   "source": [
    "Volumes are virtual \"discs\" to store and share data from container-container (`volumes-from`) and container-host (`-v`). Volumes are not part of images.\n",
    "Two main varieties:\n",
    "- Presistent (container-container)\n",
    "- Ephemeral (container-host)"
   ]
  },
  {
   "cell_type": "markdown",
   "metadata": {},
   "source": [
    "## Registries\n",
    "- Registries manage and distribute images\n",
    "- Docker (the company) offers these for free\n",
    "- One can run their own, as well"
   ]
  },
  {
   "cell_type": "code",
   "execution_count": null,
   "metadata": {},
   "outputs": [],
   "source": [
    "!docker search ubuntu"
   ]
  },
  {
   "cell_type": "markdown",
   "metadata": {},
   "source": [
    "`docker hub` for containers is extremely similar to `pip` and `git` for software."
   ]
  },
  {
   "cell_type": "markdown",
   "metadata": {},
   "source": [
    "## Building Docker images"
   ]
  },
  {
   "cell_type": "markdown",
   "metadata": {},
   "source": [
    "A `Dockerfile` is a small program to create an image. It is ran with `docker build -t <name of Dockerfile> .`. Each line in a Dockerfile is its own call to `docker run`. Put the most volatile steps at the end of the file since each step is cached to avoid running steps too often. "
   ]
  },
  {
   "cell_type": "code",
   "execution_count": null,
   "metadata": {},
   "outputs": [],
   "source": [
    "%%file Dockerfile\n",
    "\n",
    "FROM busybox\n",
    "RUN echo \"building simple docker image.\"\n",
    "CMD echo \"hello, world.\""
   ]
  },
  {
   "cell_type": "code",
   "execution_count": null,
   "metadata": {},
   "outputs": [],
   "source": [
    "!docker build -t hello ."
   ]
  },
  {
   "cell_type": "code",
   "execution_count": null,
   "metadata": {},
   "outputs": [],
   "source": [
    "!docker run --rm hello"
   ]
  },
  {
   "cell_type": "markdown",
   "metadata": {},
   "source": [
    "*.dockerignore* files can help similarly to *.gitignore*.*"
   ]
  },
  {
   "cell_type": "markdown",
   "metadata": {},
   "source": [
    "An example *.dockerignore* file\n",
    "```\n",
    "node_modules\n",
    "npm-debug.log\n",
    "```"
   ]
  },
  {
   "cell_type": "markdown",
   "metadata": {},
   "source": [
    "An additional *Dockerfile* example\n",
    "```\n",
    "FROM node\n",
    "\n",
    "WORKDIR /usr/src/app\n",
    "\n",
    "COPY package*.json ./\n",
    "\n",
    "RUN npm install\n",
    "\n",
    "COPY . .\n",
    "\n",
    "EXPOSE 4000\n",
    "CMD [ \"npm\", \"start\"]\n",
    "```"
   ]
  },
  {
   "cell_type": "code",
   "execution_count": null,
   "metadata": {},
   "outputs": [],
   "source": [
    "!docker run -p 4000:4000 <IMAGE NAME> # Runs the node image example above."
   ]
  },
  {
   "cell_type": "code",
   "execution_count": null,
   "metadata": {},
   "outputs": [],
   "source": [
    "!docker stop <CONTAINER ID> # Stops the running container."
   ]
  },
  {
   "cell_type": "code",
   "execution_count": null,
   "metadata": {},
   "outputs": [],
   "source": [
    "!docker start <CONTAINER ID> # Re-starts the stopped container."
   ]
  },
  {
   "cell_type": "markdown",
   "metadata": {},
   "source": [
    "`docker-compose` allows one to manage multiple containers with a single file. It lets docker know which services we want to compose. It's essentially a way to replace the `docker run` commands with a single file."
   ]
  },
  {
   "cell_type": "code",
   "execution_count": null,
   "metadata": {},
   "outputs": [],
   "source": [
    "%%file docker-compose.yml\n",
    "\n",
    "app:\n",
    "  container_name: app\n",
    "  restart: always\n",
    "  build: .\n",
    "  ports:\n",
    "    - \"4000:4000\"\n",
    "  links:\n",
    "    - mongo\n",
    "mongo:\n",
    "  container_name: mongo\n",
    "  image: mongo\n",
    "  expose:\n",
    "    - \"27017\"\n",
    "  volumes:\n",
    "    - ./data:/data/db\n",
    "  ports:\n",
    "    - \"27017:27017\""
   ]
  },
  {
   "cell_type": "markdown",
   "metadata": {},
   "source": [
    "Run `docker-compose build` for the file above. Then run `docker-compose up -d mongo` since we want the mongo container to run first. To make sure that it's running, run `docker logs <CONTAINER ID>`. Then run `docker-compose up -d app` to run the main app."
   ]
  },
  {
   "cell_type": "markdown",
   "metadata": {},
   "source": [
    "Docker can be integrated with a continuous integration framework. One can use something like Travis CI using the following file.\n",
    "\n",
    "```yaml\n",
    "sudo: required\n",
    "services:\n",
    "  - docker\n",
    "\n",
    "script:\n",
    "  - docker build -t <dockeruser/nameofproject> .\n",
    "  - docker images <dockeruser/nameofproject>\n",
    "\n",
    "before_deploy:\n",
    "  - docker login -u <username>  -p <userpassword>\n",
    "\n",
    "deploy:\n",
    "  provider: script\n",
    "  script: docker push <dockeruser/nameofproject>\n",
    "  on:\n",
    "    branch: master\n",
    "```"
   ]
  },
  {
   "cell_type": "markdown",
   "metadata": {},
   "source": [
    "## Kubernetes\n",
    "\n",
    "- Containers run programs\n",
    "- Pods group containers together\n",
    "- Services make pods available to others\n",
    "- Labels are used for very advanced service discovery\n",
    "- `kubectl` makes scripting large operations possible (ex. `kubectl get services -o wide`)\n",
    "- Very flexible overlay networking\n",
    "- Runs equally well on your hardware or a cloud provider\n",
    "- Built-in service discovery\n",
    "- `EC2 Container Service (ECS)` is another possible orchestration system"
   ]
  }
 ],
 "metadata": {
  "kernelspec": {
   "display_name": "Python 3",
   "language": "python",
   "name": "python3"
  },
  "language_info": {
   "codemirror_mode": {
    "name": "ipython",
    "version": 3
   },
   "file_extension": ".py",
   "mimetype": "text/x-python",
   "name": "python",
   "nbconvert_exporter": "python",
   "pygments_lexer": "ipython3",
   "version": "3.7.3"
  }
 },
 "nbformat": 4,
 "nbformat_minor": 2
}
